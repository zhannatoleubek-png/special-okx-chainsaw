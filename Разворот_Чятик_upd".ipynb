{
  "nbformat": 4,
  "nbformat_minor": 0,
  "metadata": {
    "colab": {
      "provenance": [],
      "include_colab_link": true
    },
    "kernelspec": {
      "name": "python3",
      "display_name": "Python 3"
    },
    "language_info": {
      "name": "python"
    }
  },
  "cells": [
    {
      "cell_type": "markdown",
      "metadata": {
        "id": "view-in-github",
        "colab_type": "text"
      },
      "source": [
        "<a href=\"https://colab.research.google.com/github/zhannatoleubek-png/special-okx-chainsaw/blob/main/%D0%A0%D0%B0%D0%B7%D0%B2%D0%BE%D1%80%D0%BE%D1%82_%D0%A7%D1%8F%D1%82%D0%B8%D0%BA_upd%22.ipynb\" target=\"_parent\"><img src=\"https://colab.research.google.com/assets/colab-badge.svg\" alt=\"Open In Colab\"/></a>"
      ]
    },
    {
      "cell_type": "code",
      "source": [
        "# Colab-ready script: OKX scanner -> Telegram signals\n",
        "# Требует: ccxt, pandas, numpy, requests\n",
        "# Установка (в Colab):\n",
        "!pip install --quiet ccxt pandas numpy requests\n",
        "\n",
        "# ----------------------------------------------------------------------\n",
        "# CONFIG — заполните перед запуском\n",
        "CONFIG = {\n",
        "    # Telegram\n",
        "    \"telegram_bot_token\": \"8111633898:AAEH_ssxu0KiyTNHbZ2Ig04ilSTCRGCV6b8\",\n",
        "    # chat_id канала/чата. Если это канал, обычно выглядит как -1001234567890\n",
        "    \"telegram_chat_id\": \"-4851261476\",\n",
        "\n",
        "    # Список символов, если пустой — будет динамически выбран (включая 'USDT')\n",
        "    \"symbols\": [],\n",
        "\n",
        "    # Сканировать только perpetual / USDT-торговые пары (логика фильтра в коде)\n",
        "    \"market_filter\": {\"quote\": \"USDT\", \"type_contains\": [\"SWAP\", \"PERPETUAL\", \"PERP\"]},\n",
        "\n",
        "    # Частота сканирования в секундах\n",
        "    \"scan_interval\": 10 * 60,  # 10 минут\n",
        "\n",
        "    # Параметры сигналов\n",
        "    \"delta_window_trades\": 200,  # сколько последних трейдов смотреть\n",
        "    \"delta_ratio_threshold\": 0.6,\n",
        "    \"vwap_window_minutes\": 60,   # для интрадей VWAP\n",
        "    \"atr_period\": 14,\n",
        "    \"pivot_anchor_tf\": \"1h\",     # TF для расчёта pivot (можно '1h' или '1d')\n",
        "    \"near_level_atr_mult\": 0.5,  # buffer around pivot = ATR * this\n",
        "    \"min_confidence_score\": 6.0, # порог для отправки сигнала (подстроить при тестах)\n",
        "    # фильтр минимальной ликвидности: минимальный торговый объём за 24ч (USDT)\n",
        "    \"min_base_volume_24h\": 100000\n",
        "}\n",
        "# ----------------------------------------------------------------------\n",
        "\n",
        "import time\n",
        "import math\n",
        "import datetime as dt\n",
        "import traceback\n",
        "import requests\n",
        "import pandas as pd\n",
        "import numpy as np\n",
        "import ccxt\n",
        "\n",
        "# ---------------- helpers ----------------\n",
        "def send_telegram_message(bot_token: str, chat_id: str, text: str, parse_mode: str = \"HTML\"):\n",
        "    url = f\"https://api.telegram.org/bot{bot_token}/sendMessage\"\n",
        "    payload = {\"chat_id\": chat_id, \"text\": text, \"parse_mode\": parse_mode, \"disable_web_page_preview\": True}\n",
        "    try:\n",
        "        r = requests.post(url, json=payload, timeout=10)\n",
        "        return r.json()\n",
        "    except Exception as e:\n",
        "        print(\"Telegram send error:\", e)\n",
        "        return None\n",
        "\n",
        "def now_ts():\n",
        "    return dt.datetime.utcnow().strftime(\"%Y-%m-%d %H:%M:%S UTC\")\n",
        "\n",
        "# ---------------- market helpers ----------------\n",
        "exchange = ccxt.okx({\n",
        "    \"enableRateLimit\": True,\n",
        "    # Публичные запросы — не указываем ключи\n",
        "})\n",
        "\n",
        "def safe_fetch_ohlcv(symbol, timeframe='1h', limit=200):\n",
        "    try:\n",
        "        return exchange.fetch_ohlcv(symbol, timeframe=timeframe, limit=limit)\n",
        "    except Exception as e:\n",
        "        # пробуем с подключением \"swap\" суффиксом или другим форматом\n",
        "        print(f\"fetch_ohlcv error for {symbol} {timeframe}: {e}\")\n",
        "        return None\n",
        "\n",
        "def compute_pivots_from_ohlcv(ohlcv):\n",
        "    # ohlcv as list of [ts, open, high, low, close, vol]\n",
        "    # классические пивоты по последней завершенной свечке\n",
        "    if not ohlcv or len(ohlcv) < 2:\n",
        "        return None\n",
        "    prev = ohlcv[-2]  # предпоследняя (т.е. завершенная)\n",
        "    prev_high = prev[2]\n",
        "    prev_low = prev[3]\n",
        "    prev_close = prev[4]\n",
        "    P = (prev_high + prev_low + prev_close) / 3.0\n",
        "    R1 = 2*P - prev_low\n",
        "    S1 = 2*P - prev_high\n",
        "    R2 = P + (prev_high - prev_low)\n",
        "    S2 = P - (prev_high - prev_low)\n",
        "    R3 = prev_high + 2*(P - prev_low)\n",
        "    S3 = prev_low - 2*(prev_high - P)\n",
        "    # Camarilla (simplified)\n",
        "    rng = prev_high - prev_low\n",
        "    CR = {\n",
        "        \"R1\": prev_close + rng * (1.1/12),\n",
        "        \"R2\": prev_close + rng * (1.1/6),\n",
        "        \"R3\": prev_close + rng * (1.1/4),\n",
        "        \"R4\": prev_close + rng * (1.1/2),\n",
        "        \"S1\": prev_close - rng * (1.1/12),\n",
        "        \"S2\": prev_close - rng * (1.1/6),\n",
        "        \"S3\": prev_close - rng * (1.1/4),\n",
        "        \"S4\": prev_close - rng * (1.1/2),\n",
        "    }\n",
        "    return {\"classic\": {\"P\": P, \"R1\": R1, \"S1\": S1, \"R2\": R2, \"S2\": S2, \"R3\": R3, \"S3\": S3}, \"camarilla\": CR}\n",
        "\n",
        "def compute_vwap_from_ohlcv(ohlcv):\n",
        "    # VWAP over ohlcv rows (use typical price * vol)\n",
        "    df = pd.DataFrame(ohlcv, columns=['ts','open','high','low','close','vol'])\n",
        "    df['typ'] = (df['high'] + df['low'] + df['close'])/3.0\n",
        "    df['pv'] = df['typ'] * df['vol']\n",
        "    cum_pv = df['pv'].sum()\n",
        "    cum_v = df['vol'].sum()\n",
        "    vwap = (cum_pv / cum_v) if cum_v > 0 else None\n",
        "    return vwap\n",
        "\n",
        "def compute_atr(ohlcv, period=14):\n",
        "    df = pd.DataFrame(ohlcv, columns=['ts','open','high','low','close','vol'])\n",
        "    df['prev_close'] = df['close'].shift(1)\n",
        "    df['tr'] = df[['high','low','prev_close']].apply(lambda x: max(x['high']-x['low'], abs(x['high']-x['prev_close']), abs(x['low']-x['prev_close'])), axis=1)\n",
        "    atr = df['tr'].rolling(period).mean().iloc[-1]\n",
        "    return float(atr) if not np.isnan(atr) else None\n",
        "\n",
        "def compute_delta_from_trades(trades):\n",
        "    # trades: list of trade dicts from ccxt\n",
        "    # try to use 'side' if present, else approximate by comparing to mid price\n",
        "    if not trades:\n",
        "        return 0.0, 0.0\n",
        "    buy_vol = 0.0\n",
        "    sell_vol = 0.0\n",
        "    for t in trades:\n",
        "        size = float(t.get('amount', t.get('volume', 0) or 0))\n",
        "        side = t.get('side', None)\n",
        "        # try to infer side if missing\n",
        "        if side is None:\n",
        "            # fallback: if 'takertype' or 'maker' present\n",
        "            if 'takerSide' in t:\n",
        "                side = 'buy' if t['takerSide'].lower() == 'buy' else 'sell'\n",
        "        if side is None:\n",
        "            # as last resort: compare price with last bid/ask (we'll approximate not having orderbook here)\n",
        "            # we won't do this inference here; treat as unknown\n",
        "            continue\n",
        "        if side.lower() == 'buy':\n",
        "            buy_vol += size\n",
        "        else:\n",
        "            sell_vol += size\n",
        "    total = buy_vol + sell_vol\n",
        "    delta = buy_vol - sell_vol\n",
        "    ratio = (abs(delta) / total) if total > 0 else 0.0\n",
        "    # sign: positive -> net aggressive buys, negative -> net sells\n",
        "    return float(delta), float(ratio)\n",
        "\n",
        "def near_level(price, level, atr, mult=0.5):\n",
        "    buffer = (atr or 0) * mult\n",
        "    return abs(price - level) <= buffer\n",
        "\n",
        "# ---------------- scoring rules ----------------\n",
        "def score_reversal(symbol, ticker_price, ohlcv_tf, trades_recent, orderbook_top, params):\n",
        "    \"\"\"\n",
        "    Возвращает dict with score, reasons, suggested SL/TP\n",
        "    \"\"\"\n",
        "    score = 0.0\n",
        "    reasons = []\n",
        "    pivots = compute_pivots_from_ohlcv(ohlcv_tf)\n",
        "    if not pivots:\n",
        "        return {\"score\": 0.0, \"reasons\": [\"no_pivot\"], \"side\": None}\n",
        "    atr = compute_atr(ohlcv_tf, period=params['atr_period']) or 0.0\n",
        "    vwap = compute_vwap_from_ohlcv(ohlcv_tf)\n",
        "    # compute delta\n",
        "    delta, delta_ratio = compute_delta_from_trades(trades_recent)\n",
        "\n",
        "    # 1) pivot proximity (Camarilla R3/S3 considered stronger)\n",
        "    c = pivots['camarilla']\n",
        "    classic = pivots['classic']\n",
        "    side = None\n",
        "    if near_level(ticker_price, c['R3'], atr, params['near_level_atr_mult']):\n",
        "        score += 2.0\n",
        "        reasons.append(\"near_camarilla_R3\")\n",
        "        side = \"short\"  # expect reversal down from resistance\n",
        "    if near_level(ticker_price, c['S3'], atr, params['near_level_atr_mult']):\n",
        "        score += 2.0\n",
        "        reasons.append(\"near_camarilla_S3\")\n",
        "        side = \"long\"\n",
        "\n",
        "    # 2) delta opposite (if price at resistance and buys spike -> maybe breakout, but we want opposite)\n",
        "    if side == \"short\" and delta_ratio > params['delta_ratio_threshold'] and delta < 0:\n",
        "        # if at resistance and there is net aggressive selling (delta<0) -> supports reversal down\n",
        "        score += 3.0\n",
        "        reasons.append(\"delta_confirms_sell_pressure\")\n",
        "    if side == \"long\" and delta_ratio > params['delta_ratio_threshold'] and delta > 0:\n",
        "        score += 3.0\n",
        "        reasons.append(\"delta_confirms_buy_pressure\")\n",
        "\n",
        "    # 3) vwap divergence: if price well above VWAP at resistance => more likely rejection (or vice versa)\n",
        "    if vwap:\n",
        "        if side == \"short\" and ticker_price > vwap:\n",
        "            score += 1.5\n",
        "            reasons.append(\"price_above_vwap_at_resistance\")\n",
        "        if side == \"long\" and ticker_price < vwap:\n",
        "            score += 1.5\n",
        "            reasons.append(\"price_below_vwap_at_support\")\n",
        "\n",
        "    # 4) price action rejection (last candle has long wick opposite to direction)\n",
        "    # use last ohlcv candle\n",
        "    last = ohlcv_tf[-2]  # last closed candle\n",
        "    o_open, o_high, o_low, o_close = last[1], last[2], last[3], last[4]\n",
        "    body = abs(o_close - o_open)\n",
        "    upper_wick = o_high - max(o_close, o_open)\n",
        "    lower_wick = min(o_close, o_open) - o_low\n",
        "    if side == \"short\" and upper_wick > body * 1.5:\n",
        "        score += 1.5\n",
        "        reasons.append(\"upper_wick_rejection\")\n",
        "    if side == \"long\" and lower_wick > body * 1.5:\n",
        "        score += 1.5\n",
        "        reasons.append(\"lower_wick_rejection\")\n",
        "\n",
        "    # 5) liquidity depth imbalance (top N)\n",
        "    try:\n",
        "        bids = sum([float(x[1]) for x in orderbook_top['bids'][:5]])\n",
        "        asks = sum([float(x[1]) for x in orderbook_top['asks'][:5]])\n",
        "        if side == \"short\" and bids < asks * 0.7:\n",
        "            # more asks near price -> pressure to go down\n",
        "            score += 0.8\n",
        "            reasons.append(\"ask_dominance\")\n",
        "        if side == \"long\" and asks < bids * 0.7:\n",
        "            score += 0.8\n",
        "            reasons.append(\"bid_dominance\")\n",
        "    except Exception:\n",
        "        pass\n",
        "\n",
        "    # produce suggested SL/TP\n",
        "    if side:\n",
        "        sl = None\n",
        "        tp = None\n",
        "        # SL: opposite side ATR multiplier\n",
        "        if side == \"long\":\n",
        "            sl = ticker_price - max(atr * 1.5, atr * 0.5)\n",
        "            # TP: next pivot above or R1 classic\n",
        "            tp = classic['R1']\n",
        "        else:\n",
        "            sl = ticker_price + max(atr * 1.5, atr * 0.5)\n",
        "            tp = classic['S1']\n",
        "        return {\"score\": round(score, 2), \"reasons\": reasons, \"side\": side, \"SL\": sl, \"TP\": tp, \"atr\": atr, \"vwap\": vwap, \"delta\": delta, \"delta_ratio\": delta_ratio, \"pivots\": pivots}\n",
        "    else:\n",
        "        return {\"score\": round(score, 2), \"reasons\": reasons, \"side\": None}\n",
        "\n",
        "# ---------------- main scanner ----------------\n",
        "def discover_symbols(min_volume_24h=100000):\n",
        "    \"\"\"Попытка получить список активных USDT perpetual через ccxt markets\"\"\"\n",
        "    markets = exchange.load_markets()\n",
        "    syms = []\n",
        "    for symbol, md in exchange.markets.items():\n",
        "        try:\n",
        "            # фильтруем по quote 'USDT' либо name containing 'USDT'\n",
        "            if ('USDT' in symbol) or (md.get('quote') == 'USDT'):\n",
        "                # try to check if it's perpetual/swap - many markets have 'swap' in id or info\n",
        "                info = md.get('info', {}) or {}\n",
        "                market_type = info.get('instType') or info.get('type') or ''\n",
        "                # volume:\n",
        "                # beware: not all exchanges give baseVolume24h in markets; we will skip vol filter if missing\n",
        "                vol24 = None\n",
        "                if 'baseVolume24h' in info:\n",
        "                    try:\n",
        "                        vol24 = float(info.get('baseVolume24h') or 0)\n",
        "                    except:\n",
        "                        vol24 = None\n",
        "                # Accept if swap/perp or we don't know\n",
        "                if (('SWAP' in symbol.upper() or 'PERP' in symbol.upper() or 'SWAP' in market_type.upper() or 'PERPETUAL' in market_type.upper()) or True):\n",
        "                    syms.append(symbol)\n",
        "        except Exception:\n",
        "            continue\n",
        "    # dedupe and sort\n",
        "    syms = sorted(list(set(syms)))\n",
        "    return syms\n",
        "\n",
        "def run_scan_loop(cfg):\n",
        "    print(\"Scanner started at\", now_ts())\n",
        "    bot_token = cfg['telegram_bot_token']\n",
        "    chat_id = cfg['telegram_chat_id']\n",
        "    symbols = cfg['symbols'] or discover_symbols(cfg['min_base_volume_24h'])\n",
        "    print(f\"Symbols to scan: {len(symbols)} (example: {symbols[:10]})\")\n",
        "    exchange.load_markets()\n",
        "    # main loop\n",
        "    while True:\n",
        "        try:\n",
        "            t0 = time.time()\n",
        "            alerts = []\n",
        "            for sym in symbols:\n",
        "                try:\n",
        "                    # fetch ticker price\n",
        "                    try:\n",
        "                        ticker = exchange.fetch_ticker(sym)\n",
        "                        last_price = float(ticker['last'])\n",
        "                    except Exception:\n",
        "                        # skip symbol if can't fetch ticker\n",
        "                        continue\n",
        "\n",
        "                    # fetch ohlcv for pivot & indicators (use 1h or 1d)\n",
        "                    tf = '1h' if cfg['pivot_anchor_tf'].endswith('h') else cfg['pivot_anchor_tf']\n",
        "                    ohlcv = safe_fetch_ohlcv(sym, timeframe=tf, limit=200)\n",
        "                    if not ohlcv:\n",
        "                        continue\n",
        "\n",
        "                    # fetch recent trades for delta\n",
        "                    try:\n",
        "                        trades = exchange.fetch_trades(sym, limit=cfg['delta_window_trades'])\n",
        "                    except Exception:\n",
        "                        trades = []\n",
        "\n",
        "                    # fetch orderbook top\n",
        "                    try:\n",
        "                        ob = exchange.fetch_order_book(sym, limit=50)\n",
        "                    except Exception:\n",
        "                        ob = {'bids': [], 'asks': []}\n",
        "\n",
        "                    res = score_reversal(sym, last_price, ohlcv, trades, ob, cfg)\n",
        "                    # only if score high enough and side detected\n",
        "                    if res.get('side') and res.get('score', 0) >= cfg['min_confidence_score']:\n",
        "                        # build message\n",
        "                        msg = f\"📡 <b>OKX Signal</b>\\n\"\n",
        "                        msg += f\"• <b>Пара:</b> {sym}\\n\"\n",
        "                        msg += f\"• <b>Время:</b> {now_ts()}\\n\"\n",
        "                        msg += f\"• <b>Направление:</b> {res['side'].upper()}\\n\"\n",
        "                        msg += f\"• <b>Цена входа (approx):</b> {last_price:.6f}\\n\"\n",
        "                        if res.get('SL'):\n",
        "                            msg += f\"• <b>SL:</b> {res['SL']:.6f}\\n\"\n",
        "                        if res.get('TP'):\n",
        "                            msg += f\"• <b>TP:</b> {res['TP']:.6f}\\n\"\n",
        "                        msg += f\"• <b>Score:</b> {res['score']} ({', '.join(res['reasons'])})\\n\"\n",
        "                        msg += f\"• <b>ATR:</b> {res.get('atr'):.6f} • <b>VWAP:</b> {res.get('vwap'):.6f}\\n\"\n",
        "                        msg += f\"• <b>Delta:</b> {res.get('delta'):.2f} • <b>DeltaRatio:</b> {res.get('delta_ratio'):.2f}\\n\"\n",
        "                        msg += f\"\\n<i>Auto-scan OKX • algorithmic reversal detector</i>\"\n",
        "                        alerts.append((sym, msg))\n",
        "                        # send immediately\n",
        "                        send_telegram_message(bot_token, chat_id, msg)\n",
        "                        print(f\"Sent alert for {sym} score={res['score']}\")\n",
        "\n",
        "                except Exception as e_sym:\n",
        "                    print(\"Error processing symbol\", sym, e_sym)\n",
        "                    traceback.print_exc()\n",
        "                    continue\n",
        "\n",
        "            t1 = time.time()\n",
        "            elapsed = t1 - t0\n",
        "            sleep_for = max(5, cfg['scan_interval'] - elapsed)\n",
        "            print(f\"[{now_ts()}] Round done. Alerts this round: {len(alerts)}. Sleeping {int(sleep_for)}s.\")\n",
        "            time.sleep(sleep_for)\n",
        "        except KeyboardInterrupt:\n",
        "            print(\"Scanner stopped by user.\")\n",
        "            break\n",
        "        except Exception as e:\n",
        "            print(\"Fatal loop error:\", e)\n",
        "            traceback.print_exc()\n",
        "            # wait a bit before retrying\n",
        "            time.sleep(10)\n",
        "\n",
        "# ---------------- run ----------------\n",
        "if __name__ == \"__main__\":\n",
        "    # sanity checks\n",
        "    if not CONFIG['telegram_bot_token'] or not CONFIG['telegram_chat_id']:\n",
        "        raise SystemExit(\"Please set TELEGRAM token and chat_id in CONFIG before running.\")\n",
        "    # optional: small discovery if symbols empty\n",
        "    if not CONFIG['symbols']:\n",
        "        print(\"Discovering symbols (this may take few seconds)...\")\n",
        "        try:\n",
        "            discovered = discover_symbols(CONFIG.get('min_base_volume_24h', 100000))\n",
        "            # allow user override, but default to top 200 discovered\n",
        "            CONFIG['symbols'] = discovered[:200]\n",
        "            print(f\"Discovered {len(CONFIG['symbols'])} symbols. Using top {len(CONFIG['symbols'])}.\")\n",
        "        except Exception as e:\n",
        "            print(\"Discover error:\", e)\n",
        "            CONFIG['symbols'] = []\n",
        "\n",
        "    run_scan_loop(CONFIG)"
      ],
      "metadata": {
        "colab": {
          "base_uri": "https://localhost:8080/"
        },
        "id": "L_3rMMQ22R7M",
        "outputId": "85167b1c-57a1-4a2f-953c-3cc0eaf707cd"
      },
      "execution_count": null,
      "outputs": [
        {
          "output_type": "stream",
          "name": "stdout",
          "text": [
            "Discovering symbols (this may take few seconds)...\n",
            "Discovered 200 symbols. Using top 200.\n",
            "Scanner started at 2025-10-08 23:28:11 UTC\n",
            "Symbols to scan: 200 (example: ['0G/USDT:USDT', '1INCH/USDT', '1INCH/USDT:USDT', '2Z/USDT:USDT', 'A/USDT', 'A/USDT:USDT', 'AAVE/USDT', 'AAVE/USDT:USDT', 'ACA/USDT', 'ACE/USDT'])\n"
          ]
        },
        {
          "output_type": "stream",
          "name": "stderr",
          "text": [
            "/tmp/ipython-input-2627281072.py:57: DeprecationWarning: datetime.datetime.utcnow() is deprecated and scheduled for removal in a future version. Use timezone-aware objects to represent datetimes in UTC: datetime.datetime.now(datetime.UTC).\n",
            "  return dt.datetime.utcnow().strftime(\"%Y-%m-%d %H:%M:%S UTC\")\n",
            "/tmp/ipython-input-2627281072.py:57: DeprecationWarning: datetime.datetime.utcnow() is deprecated and scheduled for removal in a future version. Use timezone-aware objects to represent datetimes in UTC: datetime.datetime.now(datetime.UTC).\n",
            "  return dt.datetime.utcnow().strftime(\"%Y-%m-%d %H:%M:%S UTC\")\n"
          ]
        },
        {
          "output_type": "stream",
          "name": "stdout",
          "text": [
            "Sent alert for 0G/USDT:USDT score=7.0\n"
          ]
        },
        {
          "output_type": "stream",
          "name": "stderr",
          "text": [
            "/tmp/ipython-input-2627281072.py:57: DeprecationWarning: datetime.datetime.utcnow() is deprecated and scheduled for removal in a future version. Use timezone-aware objects to represent datetimes in UTC: datetime.datetime.now(datetime.UTC).\n",
            "  return dt.datetime.utcnow().strftime(\"%Y-%m-%d %H:%M:%S UTC\")\n"
          ]
        },
        {
          "output_type": "stream",
          "name": "stdout",
          "text": [
            "Sent alert for 1INCH/USDT score=6.3\n"
          ]
        },
        {
          "output_type": "stream",
          "name": "stderr",
          "text": [
            "/tmp/ipython-input-2627281072.py:57: DeprecationWarning: datetime.datetime.utcnow() is deprecated and scheduled for removal in a future version. Use timezone-aware objects to represent datetimes in UTC: datetime.datetime.now(datetime.UTC).\n",
            "  return dt.datetime.utcnow().strftime(\"%Y-%m-%d %H:%M:%S UTC\")\n"
          ]
        },
        {
          "output_type": "stream",
          "name": "stdout",
          "text": [
            "Sent alert for AAVE/USDT:USDT score=8.0\n"
          ]
        },
        {
          "output_type": "stream",
          "name": "stderr",
          "text": [
            "/tmp/ipython-input-2627281072.py:57: DeprecationWarning: datetime.datetime.utcnow() is deprecated and scheduled for removal in a future version. Use timezone-aware objects to represent datetimes in UTC: datetime.datetime.now(datetime.UTC).\n",
            "  return dt.datetime.utcnow().strftime(\"%Y-%m-%d %H:%M:%S UTC\")\n"
          ]
        },
        {
          "output_type": "stream",
          "name": "stdout",
          "text": [
            "Sent alert for ADA/USDT score=6.3\n"
          ]
        },
        {
          "output_type": "stream",
          "name": "stderr",
          "text": [
            "/tmp/ipython-input-2627281072.py:57: DeprecationWarning: datetime.datetime.utcnow() is deprecated and scheduled for removal in a future version. Use timezone-aware objects to represent datetimes in UTC: datetime.datetime.now(datetime.UTC).\n",
            "  return dt.datetime.utcnow().strftime(\"%Y-%m-%d %H:%M:%S UTC\")\n"
          ]
        },
        {
          "output_type": "stream",
          "name": "stdout",
          "text": [
            "Sent alert for ADA/USDT:USDT score=7.0\n"
          ]
        },
        {
          "output_type": "stream",
          "name": "stderr",
          "text": [
            "/tmp/ipython-input-2627281072.py:57: DeprecationWarning: datetime.datetime.utcnow() is deprecated and scheduled for removal in a future version. Use timezone-aware objects to represent datetimes in UTC: datetime.datetime.now(datetime.UTC).\n",
            "  return dt.datetime.utcnow().strftime(\"%Y-%m-%d %H:%M:%S UTC\")\n"
          ]
        },
        {
          "output_type": "stream",
          "name": "stdout",
          "text": [
            "Sent alert for AEVO/USDT score=8.5\n"
          ]
        },
        {
          "output_type": "stream",
          "name": "stderr",
          "text": [
            "/tmp/ipython-input-2627281072.py:57: DeprecationWarning: datetime.datetime.utcnow() is deprecated and scheduled for removal in a future version. Use timezone-aware objects to represent datetimes in UTC: datetime.datetime.now(datetime.UTC).\n",
            "  return dt.datetime.utcnow().strftime(\"%Y-%m-%d %H:%M:%S UTC\")\n"
          ]
        },
        {
          "output_type": "stream",
          "name": "stdout",
          "text": [
            "Sent alert for AEVO/USDT:USDT score=6.3\n"
          ]
        },
        {
          "output_type": "stream",
          "name": "stderr",
          "text": [
            "/tmp/ipython-input-2627281072.py:57: DeprecationWarning: datetime.datetime.utcnow() is deprecated and scheduled for removal in a future version. Use timezone-aware objects to represent datetimes in UTC: datetime.datetime.now(datetime.UTC).\n",
            "  return dt.datetime.utcnow().strftime(\"%Y-%m-%d %H:%M:%S UTC\")\n"
          ]
        },
        {
          "output_type": "stream",
          "name": "stdout",
          "text": [
            "Sent alert for AGLD/USDT score=6.3\n"
          ]
        },
        {
          "output_type": "stream",
          "name": "stderr",
          "text": [
            "/tmp/ipython-input-2627281072.py:57: DeprecationWarning: datetime.datetime.utcnow() is deprecated and scheduled for removal in a future version. Use timezone-aware objects to represent datetimes in UTC: datetime.datetime.now(datetime.UTC).\n",
            "  return dt.datetime.utcnow().strftime(\"%Y-%m-%d %H:%M:%S UTC\")\n"
          ]
        },
        {
          "output_type": "stream",
          "name": "stdout",
          "text": [
            "Sent alert for ANIME/USDT score=6.3\n"
          ]
        },
        {
          "output_type": "stream",
          "name": "stderr",
          "text": [
            "/tmp/ipython-input-2627281072.py:57: DeprecationWarning: datetime.datetime.utcnow() is deprecated and scheduled for removal in a future version. Use timezone-aware objects to represent datetimes in UTC: datetime.datetime.now(datetime.UTC).\n",
            "  return dt.datetime.utcnow().strftime(\"%Y-%m-%d %H:%M:%S UTC\")\n"
          ]
        },
        {
          "output_type": "stream",
          "name": "stdout",
          "text": [
            "Sent alert for APT/USDT:USDT score=8.5\n"
          ]
        },
        {
          "output_type": "stream",
          "name": "stderr",
          "text": [
            "/tmp/ipython-input-2627281072.py:57: DeprecationWarning: datetime.datetime.utcnow() is deprecated and scheduled for removal in a future version. Use timezone-aware objects to represent datetimes in UTC: datetime.datetime.now(datetime.UTC).\n",
            "  return dt.datetime.utcnow().strftime(\"%Y-%m-%d %H:%M:%S UTC\")\n"
          ]
        },
        {
          "output_type": "stream",
          "name": "stdout",
          "text": [
            "Sent alert for ASP/USDT score=6.3\n"
          ]
        },
        {
          "output_type": "stream",
          "name": "stderr",
          "text": [
            "/tmp/ipython-input-2627281072.py:57: DeprecationWarning: datetime.datetime.utcnow() is deprecated and scheduled for removal in a future version. Use timezone-aware objects to represent datetimes in UTC: datetime.datetime.now(datetime.UTC).\n",
            "  return dt.datetime.utcnow().strftime(\"%Y-%m-%d %H:%M:%S UTC\")\n"
          ]
        },
        {
          "output_type": "stream",
          "name": "stdout",
          "text": [
            "Sent alert for AVAX/USDT score=9.3\n"
          ]
        },
        {
          "output_type": "stream",
          "name": "stderr",
          "text": [
            "/tmp/ipython-input-2627281072.py:57: DeprecationWarning: datetime.datetime.utcnow() is deprecated and scheduled for removal in a future version. Use timezone-aware objects to represent datetimes in UTC: datetime.datetime.now(datetime.UTC).\n",
            "  return dt.datetime.utcnow().strftime(\"%Y-%m-%d %H:%M:%S UTC\")\n"
          ]
        },
        {
          "output_type": "stream",
          "name": "stdout",
          "text": [
            "Sent alert for AVNT/USDT score=8.5\n"
          ]
        },
        {
          "output_type": "stream",
          "name": "stderr",
          "text": [
            "/tmp/ipython-input-2627281072.py:57: DeprecationWarning: datetime.datetime.utcnow() is deprecated and scheduled for removal in a future version. Use timezone-aware objects to represent datetimes in UTC: datetime.datetime.now(datetime.UTC).\n",
            "  return dt.datetime.utcnow().strftime(\"%Y-%m-%d %H:%M:%S UTC\")\n"
          ]
        },
        {
          "output_type": "stream",
          "name": "stdout",
          "text": [
            "Sent alert for AXS/USDT score=6.3\n"
          ]
        },
        {
          "output_type": "stream",
          "name": "stderr",
          "text": [
            "/tmp/ipython-input-2627281072.py:57: DeprecationWarning: datetime.datetime.utcnow() is deprecated and scheduled for removal in a future version. Use timezone-aware objects to represent datetimes in UTC: datetime.datetime.now(datetime.UTC).\n",
            "  return dt.datetime.utcnow().strftime(\"%Y-%m-%d %H:%M:%S UTC\")\n"
          ]
        },
        {
          "output_type": "stream",
          "name": "stdout",
          "text": [
            "Sent alert for BABY/USDT score=6.3\n"
          ]
        },
        {
          "output_type": "stream",
          "name": "stderr",
          "text": [
            "/tmp/ipython-input-2627281072.py:57: DeprecationWarning: datetime.datetime.utcnow() is deprecated and scheduled for removal in a future version. Use timezone-aware objects to represent datetimes in UTC: datetime.datetime.now(datetime.UTC).\n",
            "  return dt.datetime.utcnow().strftime(\"%Y-%m-%d %H:%M:%S UTC\")\n"
          ]
        },
        {
          "output_type": "stream",
          "name": "stdout",
          "text": [
            "Sent alert for BARD/USDT:USDT score=7.0\n"
          ]
        },
        {
          "output_type": "stream",
          "name": "stderr",
          "text": [
            "/tmp/ipython-input-2627281072.py:57: DeprecationWarning: datetime.datetime.utcnow() is deprecated and scheduled for removal in a future version. Use timezone-aware objects to represent datetimes in UTC: datetime.datetime.now(datetime.UTC).\n",
            "  return dt.datetime.utcnow().strftime(\"%Y-%m-%d %H:%M:%S UTC\")\n"
          ]
        },
        {
          "output_type": "stream",
          "name": "stdout",
          "text": [
            "Sent alert for BIGTIME/USDT:USDT score=6.3\n"
          ]
        },
        {
          "output_type": "stream",
          "name": "stderr",
          "text": [
            "/tmp/ipython-input-2627281072.py:57: DeprecationWarning: datetime.datetime.utcnow() is deprecated and scheduled for removal in a future version. Use timezone-aware objects to represent datetimes in UTC: datetime.datetime.now(datetime.UTC).\n",
            "  return dt.datetime.utcnow().strftime(\"%Y-%m-%d %H:%M:%S UTC\")\n"
          ]
        },
        {
          "output_type": "stream",
          "name": "stdout",
          "text": [
            "Sent alert for BLUR/USDT score=6.3\n"
          ]
        },
        {
          "output_type": "stream",
          "name": "stderr",
          "text": [
            "/tmp/ipython-input-2627281072.py:57: DeprecationWarning: datetime.datetime.utcnow() is deprecated and scheduled for removal in a future version. Use timezone-aware objects to represent datetimes in UTC: datetime.datetime.now(datetime.UTC).\n",
            "  return dt.datetime.utcnow().strftime(\"%Y-%m-%d %H:%M:%S UTC\")\n"
          ]
        },
        {
          "output_type": "stream",
          "name": "stdout",
          "text": [
            "Sent alert for BNB/USDT:USDT score=7.0\n"
          ]
        },
        {
          "output_type": "stream",
          "name": "stderr",
          "text": [
            "/tmp/ipython-input-2627281072.py:57: DeprecationWarning: datetime.datetime.utcnow() is deprecated and scheduled for removal in a future version. Use timezone-aware objects to represent datetimes in UTC: datetime.datetime.now(datetime.UTC).\n",
            "  return dt.datetime.utcnow().strftime(\"%Y-%m-%d %H:%M:%S UTC\")\n"
          ]
        },
        {
          "output_type": "stream",
          "name": "stdout",
          "text": [
            "Sent alert for BTC/USDT:USDT-260327 score=6.3\n"
          ]
        },
        {
          "output_type": "stream",
          "name": "stderr",
          "text": [
            "/tmp/ipython-input-2627281072.py:57: DeprecationWarning: datetime.datetime.utcnow() is deprecated and scheduled for removal in a future version. Use timezone-aware objects to represent datetimes in UTC: datetime.datetime.now(datetime.UTC).\n",
            "  return dt.datetime.utcnow().strftime(\"%Y-%m-%d %H:%M:%S UTC\")\n"
          ]
        },
        {
          "output_type": "stream",
          "name": "stdout",
          "text": [
            "Sent alert for CATI/USDT:USDT score=7.0\n"
          ]
        },
        {
          "output_type": "stream",
          "name": "stderr",
          "text": [
            "/tmp/ipython-input-2627281072.py:57: DeprecationWarning: datetime.datetime.utcnow() is deprecated and scheduled for removal in a future version. Use timezone-aware objects to represent datetimes in UTC: datetime.datetime.now(datetime.UTC).\n",
            "  return dt.datetime.utcnow().strftime(\"%Y-%m-%d %H:%M:%S UTC\")\n"
          ]
        },
        {
          "output_type": "stream",
          "name": "stdout",
          "text": [
            "Sent alert for CETUS/USDT score=6.3\n"
          ]
        },
        {
          "output_type": "stream",
          "name": "stderr",
          "text": [
            "/tmp/ipython-input-2627281072.py:57: DeprecationWarning: datetime.datetime.utcnow() is deprecated and scheduled for removal in a future version. Use timezone-aware objects to represent datetimes in UTC: datetime.datetime.now(datetime.UTC).\n",
            "  return dt.datetime.utcnow().strftime(\"%Y-%m-%d %H:%M:%S UTC\")\n"
          ]
        },
        {
          "output_type": "stream",
          "name": "stdout",
          "text": [
            "Sent alert for CETUS/USDT:USDT score=6.3\n"
          ]
        },
        {
          "output_type": "stream",
          "name": "stderr",
          "text": [
            "/tmp/ipython-input-2627281072.py:57: DeprecationWarning: datetime.datetime.utcnow() is deprecated and scheduled for removal in a future version. Use timezone-aware objects to represent datetimes in UTC: datetime.datetime.now(datetime.UTC).\n",
            "  return dt.datetime.utcnow().strftime(\"%Y-%m-%d %H:%M:%S UTC\")\n"
          ]
        },
        {
          "output_type": "stream",
          "name": "stdout",
          "text": [
            "Sent alert for CFG/USDT score=7.0\n"
          ]
        },
        {
          "output_type": "stream",
          "name": "stderr",
          "text": [
            "/tmp/ipython-input-2627281072.py:57: DeprecationWarning: datetime.datetime.utcnow() is deprecated and scheduled for removal in a future version. Use timezone-aware objects to represent datetimes in UTC: datetime.datetime.now(datetime.UTC).\n",
            "  return dt.datetime.utcnow().strftime(\"%Y-%m-%d %H:%M:%S UTC\")\n"
          ]
        },
        {
          "output_type": "stream",
          "name": "stdout",
          "text": [
            "Sent alert for COOKIE/USDT:USDT score=7.8\n"
          ]
        },
        {
          "output_type": "stream",
          "name": "stderr",
          "text": [
            "/tmp/ipython-input-2627281072.py:57: DeprecationWarning: datetime.datetime.utcnow() is deprecated and scheduled for removal in a future version. Use timezone-aware objects to represent datetimes in UTC: datetime.datetime.now(datetime.UTC).\n",
            "  return dt.datetime.utcnow().strftime(\"%Y-%m-%d %H:%M:%S UTC\")\n"
          ]
        },
        {
          "output_type": "stream",
          "name": "stdout",
          "text": [
            "Sent alert for CRO/USDT:USDT score=6.3\n"
          ]
        },
        {
          "output_type": "stream",
          "name": "stderr",
          "text": [
            "/tmp/ipython-input-2627281072.py:57: DeprecationWarning: datetime.datetime.utcnow() is deprecated and scheduled for removal in a future version. Use timezone-aware objects to represent datetimes in UTC: datetime.datetime.now(datetime.UTC).\n",
            "  return dt.datetime.utcnow().strftime(\"%Y-%m-%d %H:%M:%S UTC\")\n"
          ]
        },
        {
          "output_type": "stream",
          "name": "stdout",
          "text": [
            "Sent alert for CRV/USDT score=6.3\n"
          ]
        },
        {
          "output_type": "stream",
          "name": "stderr",
          "text": [
            "/tmp/ipython-input-2627281072.py:57: DeprecationWarning: datetime.datetime.utcnow() is deprecated and scheduled for removal in a future version. Use timezone-aware objects to represent datetimes in UTC: datetime.datetime.now(datetime.UTC).\n",
            "  return dt.datetime.utcnow().strftime(\"%Y-%m-%d %H:%M:%S UTC\")\n"
          ]
        },
        {
          "output_type": "stream",
          "name": "stdout",
          "text": [
            "Sent alert for CTC/USDT:USDT score=6.3\n"
          ]
        },
        {
          "output_type": "stream",
          "name": "stderr",
          "text": [
            "/tmp/ipython-input-2627281072.py:57: DeprecationWarning: datetime.datetime.utcnow() is deprecated and scheduled for removal in a future version. Use timezone-aware objects to represent datetimes in UTC: datetime.datetime.now(datetime.UTC).\n",
            "  return dt.datetime.utcnow().strftime(\"%Y-%m-%d %H:%M:%S UTC\")\n"
          ]
        },
        {
          "output_type": "stream",
          "name": "stdout",
          "text": [
            "Sent alert for CVC/USDT score=7.0\n"
          ]
        },
        {
          "output_type": "stream",
          "name": "stderr",
          "text": [
            "/tmp/ipython-input-2627281072.py:57: DeprecationWarning: datetime.datetime.utcnow() is deprecated and scheduled for removal in a future version. Use timezone-aware objects to represent datetimes in UTC: datetime.datetime.now(datetime.UTC).\n",
            "  return dt.datetime.utcnow().strftime(\"%Y-%m-%d %H:%M:%S UTC\")\n"
          ]
        },
        {
          "output_type": "stream",
          "name": "stdout",
          "text": [
            "Sent alert for CVX/USDT:USDT score=6.3\n"
          ]
        },
        {
          "output_type": "stream",
          "name": "stderr",
          "text": [
            "/tmp/ipython-input-2627281072.py:57: DeprecationWarning: datetime.datetime.utcnow() is deprecated and scheduled for removal in a future version. Use timezone-aware objects to represent datetimes in UTC: datetime.datetime.now(datetime.UTC).\n",
            "  return dt.datetime.utcnow().strftime(\"%Y-%m-%d %H:%M:%S UTC\")\n"
          ]
        },
        {
          "output_type": "stream",
          "name": "stdout",
          "text": [
            "Sent alert for DAO/USDT score=6.3\n"
          ]
        },
        {
          "output_type": "stream",
          "name": "stderr",
          "text": [
            "/tmp/ipython-input-2627281072.py:57: DeprecationWarning: datetime.datetime.utcnow() is deprecated and scheduled for removal in a future version. Use timezone-aware objects to represent datetimes in UTC: datetime.datetime.now(datetime.UTC).\n",
            "  return dt.datetime.utcnow().strftime(\"%Y-%m-%d %H:%M:%S UTC\")\n"
          ]
        },
        {
          "output_type": "stream",
          "name": "stdout",
          "text": [
            "Sent alert for DOGE/USDT score=7.8\n"
          ]
        },
        {
          "output_type": "stream",
          "name": "stderr",
          "text": [
            "/tmp/ipython-input-2627281072.py:57: DeprecationWarning: datetime.datetime.utcnow() is deprecated and scheduled for removal in a future version. Use timezone-aware objects to represent datetimes in UTC: datetime.datetime.now(datetime.UTC).\n",
            "  return dt.datetime.utcnow().strftime(\"%Y-%m-%d %H:%M:%S UTC\")\n"
          ]
        },
        {
          "output_type": "stream",
          "name": "stdout",
          "text": [
            "Sent alert for DUCK/USDT score=6.3\n"
          ]
        }
      ]
    }
  ]
}